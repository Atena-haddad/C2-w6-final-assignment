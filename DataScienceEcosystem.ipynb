{
 "cells": [
  {
   "cell_type": "markdown",
   "id": "faf1e1e1",
   "metadata": {},
   "source": [
    "Exercise 2: Create markdown cell with title of the notebook"
   ]
  },
  {
   "cell_type": "markdown",
   "id": "ab3447ab",
   "metadata": {},
   "source": [
    "# 2) Data Science Tools and Ecosystem\n"
   ]
  },
  {
   "cell_type": "markdown",
   "id": "b89775c6",
   "metadata": {},
   "source": [
    "Exercise 3 - Create a markdown cell for an introduction"
   ]
  },
  {
   "cell_type": "markdown",
   "id": "95b7bcae",
   "metadata": {},
   "source": [
    "### 3) In this notebook, exercises of \"tools for data science\" of coursera are done."
   ]
  },
  {
   "cell_type": "markdown",
   "id": "4ba3d537",
   "metadata": {},
   "source": [
    "#### Exercise 10 - Insert a markdown cell to list Objectives"
   ]
  },
  {
   "cell_type": "markdown",
   "id": "842cd08c",
   "metadata": {},
   "source": [
    "**Objectives:**\n",
    "- Data science languages \n",
    "- Data science common libraries \n",
    "- Data science tools \n",
    "- python arithmetic expressions \n",
    "- Data science exercises"
   ]
  },
  {
   "cell_type": "markdown",
   "id": "e4e7e7d1",
   "metadata": {},
   "source": [
    "Exercise 4 - Create a markdown cell to list data science languages"
   ]
  },
  {
   "cell_type": "markdown",
   "id": "0cf34da8",
   "metadata": {},
   "source": [
    "### 4) The most popular languages that Data Scientists use are:\n",
    "1. python\n",
    "2. R\n",
    "3. SQL\n",
    "4. JavaScript"
   ]
  },
  {
   "cell_type": "markdown",
   "id": "a2ec7ed2",
   "metadata": {},
   "source": [
    "Exercise 5 - Create a markdown cell to list data science libraries"
   ]
  },
  {
   "cell_type": "markdown",
   "id": "94ca54de",
   "metadata": {},
   "source": [
    "### 5) Some of the most commonly used libraries for data science are : \n",
    "1. Pandas\n",
    "2. Numpy \n",
    "3. Matplotlib\n",
    "4. ...\n"
   ]
  },
  {
   "cell_type": "markdown",
   "id": "34f25240",
   "metadata": {},
   "source": [
    "Exercise 6 - Create a markdown cell with a table of Data Science tools"
   ]
  },
  {
   "cell_type": "markdown",
   "id": "166f9b64",
   "metadata": {},
   "source": [
    "### 6) Some data science tools include :\n",
    "\n",
    "|Data science tools|\n",
    "-----\n",
    "|jupyterlab| \n",
    "|Rstudio|\n",
    "|VisualStudioCode| "
   ]
  },
  {
   "cell_type": "markdown",
   "id": "9f6dfc7a",
   "metadata": {},
   "source": [
    "Exercise 7 - Create a markdown cell introducing arithmetic expression examples"
   ]
  },
  {
   "cell_type": "markdown",
   "id": "08365f68",
   "metadata": {},
   "source": [
    "### 7) Below are a few examples of evaluating arithmetic expressions in Python :\n",
    "1. \"+\" : To add two numbers, use the + operator. For example, 2 + 3 evaluates to 5.\n",
    "2. \"-\" : To subtract two numbers, use the - operator. For example, 10 - 7 evaluates to 3.\n",
    "3. \"*\" : To multiply two numbers, use the * operator. For example, 4 * 5 evaluates to 20.\n",
    "4. \"/\" : To divide two numbers, use the / operator. For example, 15 / 3 evaluates to 5.0. Note that the result is a floating-point number, even if the operands are integers.\n"
   ]
  },
  {
   "cell_type": "markdown",
   "id": "52499e74",
   "metadata": {},
   "source": [
    "Exercise 8 - Create a code cell to multiply and add numbers"
   ]
  },
  {
   "cell_type": "code",
   "execution_count": 4,
   "id": "135a42df",
   "metadata": {},
   "outputs": [
    {
     "name": "stdout",
     "output_type": "stream",
     "text": [
      "17\n"
     ]
    }
   ],
   "source": [
    "# 8) This a simple arithmetic expression to mutiply then add integers\n",
    "print((3*4)+5)"
   ]
  },
  {
   "cell_type": "markdown",
   "id": "abedf9d0",
   "metadata": {},
   "source": [
    "Exercise 9 - Create a code cell to convert minutes to hours"
   ]
  },
  {
   "cell_type": "code",
   "execution_count": 5,
   "id": "81280d2c",
   "metadata": {},
   "outputs": [
    {
     "name": "stdout",
     "output_type": "stream",
     "text": [
      "3\n"
     ]
    }
   ],
   "source": [
    "# 9)This will convert 200 minutes to hours by diving by 60\n",
    "print(int(200/60))"
   ]
  },
  {
   "cell_type": "markdown",
   "id": "54b2e6c0",
   "metadata": {},
   "source": [
    "Exercise 11 - Create a markdown cell to indicate the Author's name"
   ]
  },
  {
   "cell_type": "markdown",
   "id": "0fea5c30",
   "metadata": {},
   "source": [
    "## Author :\n",
    "Atena Haddad "
   ]
  }
 ],
 "metadata": {
  "kernelspec": {
   "display_name": "Python 3 (ipykernel)",
   "language": "python",
   "name": "python3"
  },
  "language_info": {
   "codemirror_mode": {
    "name": "ipython",
    "version": 3
   },
   "file_extension": ".py",
   "mimetype": "text/x-python",
   "name": "python",
   "nbconvert_exporter": "python",
   "pygments_lexer": "ipython3",
   "version": "3.11.3"
  }
 },
 "nbformat": 4,
 "nbformat_minor": 5
}
